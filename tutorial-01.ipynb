{
 "cells": [
  {
   "cell_type": "markdown",
   "metadata": {},
   "source": [
    "# Tutorial 1 - Working with Python\n",
    "\n",
    "Today's tutorial is designed to get you programming in Python and start working with single and multi-dimensional data structures. The ability to access and manipulate data within lists and arrays is a valuable skill that will be drawn on throughout this unit and beyond. \n",
    "\n",
    "The main purpose of this tutorial is to get you familiar with the idea of writing simple programs and get you working within the Jupyter environment.\n"
   ]
  },
  {
   "cell_type": "markdown",
   "metadata": {
    "jp-MarkdownHeadingCollapsed": true
   },
   "source": [
    "## Exercise 1\n",
    "In this first exercise, you will run your first Python program. In true programming tradition, your first piece of code will be a simple program that prints the text ‘Hello World’. Run the example and review the output.\n",
    "\n"
   ]
  },
  {
   "cell_type": "code",
   "execution_count": 4,
   "metadata": {},
   "outputs": [
    {
     "name": "stdout",
     "output_type": "stream",
     "text": [
      "Data science is fun\n",
      "So is programming\n"
     ]
    }
   ],
   "source": [
    "print('Data science is fun')\n",
    "print('So is programming')"
   ]
  },
  {
   "cell_type": "markdown",
   "metadata": {},
   "source": [
    "Exercises for you:\n",
    "\n",
    "1. Modify this program to print the text ‘Data Science is fun!’\n",
    "2. Modify this program to print the text ‘Data Science is fun!’ on one line and ‘So is programming!’ on a new line."
   ]
  },
  {
   "cell_type": "markdown",
   "metadata": {
    "jp-MarkdownHeadingCollapsed": true
   },
   "source": [
    "## Exercise 2\n",
    "\n",
    "In this exercise, you will work on some more complex programs that involve decalring and using variables. First we will display the content of some variables using the print commands. We will then create some expressions. Review the followiung example:\n"
   ]
  },
  {
   "cell_type": "code",
   "execution_count": 12,
   "metadata": {},
   "outputs": [
    {
     "name": "stdout",
     "output_type": "stream",
     "text": [
      "bob\n",
      "35\n",
      "55\n",
      "15\n"
     ]
    }
   ],
   "source": [
    "my_name = 'bob'\n",
    "print(my_name)\n",
    "\n",
    "val_1 = 35\n",
    "print(val_1)\n",
    "\n",
    "val_2 = 20\n",
    "val_3 = val_1 + val_2\n",
    "val_4 = val_1 - val_2\n",
    "\n",
    "print(val_3)\n",
    "print(val_4)"
   ]
  },
  {
   "cell_type": "code",
   "execution_count": 23,
   "metadata": {},
   "outputs": [
    {
     "name": "stdout",
     "output_type": "stream",
     "text": [
      "9\n",
      "-6\n"
     ]
    }
   ],
   "source": [
    "sum = 6 * 2 - 3\n",
    "sum2 = 6 * (2 - 3)\n",
    "\n",
    "print(sum)\n",
    "print(sum2)"
   ]
  },
  {
   "cell_type": "code",
   "execution_count": 36,
   "metadata": {},
   "outputs": [
    {
     "name": "stdout",
     "output_type": "stream",
     "text": [
      "The total compound interest made is: $23069.21477410005\n"
     ]
    }
   ],
   "source": [
    "p = 10000\n",
    "r = 0.08\n",
    "n = 12\n",
    "t = 15\n",
    "\n",
    "compound_interest = p*(1+(r/n))**(n*t)\n",
    "total_interest = compound_interest - p\n",
    "print(f\"The total compound interest made is: ${total_interest}\")"
   ]
  },
  {
   "cell_type": "markdown",
   "metadata": {},
   "source": [
    "Exercises for you:\n",
    "\n",
    "1. Modify the example to calulate the result for `val_1 - val_2` and store it in a variable named `val_4`. Add a call to the 'print' function to display the value stored in `val_4`.\n",
    "2. Consider the expression `6 * 2 - 3`. Construct some code to assign the value of this expression to a variable. You can select a valid name for the variable.\n",
    "3. Modify the expression using parenthesis (`(` & `)`) to change its result from 9 to -6. Assign the result to a variable and display its contents using the `print( ... )` function.\n",
    "4. Consider the following formula for calculating the final amount on a loan that uses compond interest (A): \n",
    "\n",
    "\n",
    "$$\n",
    " A = P(1 + \\frac{r}{n})^{nt}\n",
    "$$\n",
    "\n",
    "Where,\n",
    "\n",
    "* P = principal ammount\n",
    "* r = annual nominal interest rate\n",
    "* n = the number of times the interest is compounded per year\n",
    "* t = the number of years\n",
    "\n",
    "Write a Python program that calculates `A` based upon a principal ammount (`P`) of $10000, an interest rate (`r`) of 8% (i.e. 0.08) that is componeded(`n`) 12 times a year over 15 years (`t`). Display the result using the `print( ... )` function.\n",
    "\n",
    "Tips/Tricks:\n",
    "\n",
    "* Make sure you use parenthesis to specify the order of operations in the calculation where needed.\n",
    "* Set up your variable assignments first so that all values are set.\n"
   ]
  },
  {
   "cell_type": "markdown",
   "metadata": {
    "jp-MarkdownHeadingCollapsed": true
   },
   "source": [
    "## Exercise 3\n",
    "\n",
    "In this exercise we will work with some basic control stuctures to implement some *selection* operations. Recall that selection structures such as `if` statements allow you to write programs that execute code segments if a given condition is true. \n",
    "\n",
    "Review the following example:\n"
   ]
  },
  {
   "cell_type": "code",
   "execution_count": 44,
   "metadata": {},
   "outputs": [
    {
     "name": "stdout",
     "output_type": "stream",
     "text": [
      "The Student achieved a Conceded Pass\n"
     ]
    }
   ],
   "source": [
    "student_grade = 46\n",
    "\n",
    "performance_band = \"\"\n",
    "\n",
    "if student_grade == 0:\n",
    "    performance_band = \"Fail - incomplete\"\n",
    "elif 1 < student_grade <= 45:\n",
    "    performance_band = \"Fail\"\n",
    "elif 45 < student_grade < 50:\n",
    "    performance_band = \"Conceded Pass\"\n",
    "elif student_grade<65 and student_grade>=50:\n",
    "    performance_band = \"Pass\"\n",
    "elif student_grade<75 and student_grade>=65:\n",
    "    performance_band = \"Credit\"\n",
    "elif student_grade<85 and student_grade>=75:\n",
    "    performance_band = \"Distinction\"\n",
    "else:\n",
    "    performance_band = \"High Distinction\"\n",
    "print(\"The Student achieved a\",performance_band)"
   ]
  },
  {
   "cell_type": "markdown",
   "metadata": {},
   "source": [
    "Exercises for you:\n",
    "1. Modify the example above so that students with a grade of greater than 45 and less than 50 achieve a band of 'Conceded Pass'.\n",
    "2. Modify the example so that students with a grade of 0 recieve a band of 'Fail - Incomplete'\n",
    "3. Review the following grading scheme:\n",
    "\n",
    "| Mark | Grade|\n",
    "|------| -----|\n",
    "| >=75 | First|\n",
    "| [70-75) | Upper Second|\n",
    "| [60-70) | Second |\n",
    "| [50-60) | Third |\n",
    "| [45-50) | F1 Supp|\n",
    "| [40-45) | F2|\n",
    "|<40 | F3|\n",
    "\n",
    "The square and round brackets denote closed and open intervals. A closed interval includes the number, and open interval excludes it. So 39.99999 gets grade F3, but 40 gets grade F2.\n",
    "\n",
    "Implement a control structure that assigns a the grade to a string-type variable named `the_grade` based upon the value in a variable named `the_mark`.\n"
   ]
  },
  {
   "cell_type": "code",
   "execution_count": 52,
   "metadata": {},
   "outputs": [
    {
     "name": "stdout",
     "output_type": "stream",
     "text": [
      "Da mark 68, recieved Da grade: Second\n"
     ]
    }
   ],
   "source": [
    "the_mark = 68\n",
    "\n",
    "if the_mark < 40:\n",
    "    the_grade = \"F3\"\n",
    "elif 40 <= the_mark < 45:\n",
    "    the_grade = \"F2\"\n",
    "elif 45 <= the_mark < 50:\n",
    "    the_grade = \"F1 Supp\"\n",
    "elif 50 <= the_mark < 60:\n",
    "    the_grade = \"Third\"\n",
    "elif 60 <= the_mark < 70:\n",
    "    the_grade = \"Second\"\n",
    "elif 70 <= the_mark < 75:\n",
    "    the_grade = \"Upper Second\"\n",
    "elif the_mark >= 75:\n",
    "    the_grade = \"First\"\n",
    "\n",
    "print(f\"Da mark {the_mark}, recieved Da grade: {the_grade}\")"
   ]
  },
  {
   "cell_type": "markdown",
   "metadata": {},
   "source": [
    "## Exercise 4\n",
    "\n",
    "In this exercise you will work with some basic control stuctures to implement iteration operations. Recall that iterative structures such as `while` and `for` statements allow you to perform tasks repetitively either on a list of items or until a condition is met.\n",
    "\n",
    "Review the following examples:\n"
   ]
  },
  {
   "cell_type": "code",
   "execution_count": 193,
   "metadata": {},
   "outputs": [
    {
     "name": "stdout",
     "output_type": "stream",
     "text": [
      "45\n"
     ]
    }
   ],
   "source": [
    "# # Example 1 - traversing a list of strings\n",
    "# ex_list = [\"Brad\", \"Zuki\"]\n",
    "# for f in [\"Joe\", \"Zoe\", \"Brad\", \"Angelina\", \"Zuki\", \"Thandi\", \"Paris\"]:\n",
    "#     if f in ex_list:\n",
    "#         pass\n",
    "#     else:\n",
    "#         invitation = \"Hi \" + f + \".  Please come to my party on Saturday!\"\n",
    "#         print(invitation)\n",
    "    \n",
    "# #Example 2 - traversing a list of numbers     \n",
    "# sum = 0\n",
    "# even_sum = 0\n",
    "# for my_val in [1,2,3,4,5,6,7,8,9,10]:\n",
    "#     if my_val % 2 != 0:\n",
    "#         print(my_val)\n",
    "#     else:\n",
    "#         even_sum += my_val\n",
    "#     sum += my_val\n",
    "    \n",
    "# print(f\"The total sum of all values in my_val is: {sum}\")\n",
    "# print(f\"The total sum of all the even values is: {even_sum}\")\n",
    "\n",
    "# TODO Figure out how to do the fow sum question\n",
    "#Example 3 Working with a multidimensional structure    \n",
    "import numpy as np\n",
    "\n",
    "sum = 0\n",
    "row_sum = 0\n",
    "a2 = np.array([[1, 2, 3], [4, 5, 6], [7, 8, 9]])    \n",
    "    \n",
    "for i in range(len(a2)):\n",
    "    for j in range(len(a2[i])):\n",
    "        sum += a2[i,j]\n",
    "        \n",
    "# print(row_sum)\n",
    "print(sum)\n",
    "\n",
    "\n",
    "    \n",
    "# # Question 8 starter code    \n",
    "# f0 = 0\n",
    "# f1 = 1\n",
    "\n",
    "#Comment this back in when you start working\n",
    "#while f1 < 145:\n",
    "\n",
    "    # Do something here to calculate the next step.\n",
    "    # Don't forget to update f0 and f1\n",
    "\n",
    "    #Comment this back in when you start working    \n",
    "#    print(f1)\n",
    "\n",
    "    \n",
    "    \n",
    "    "
   ]
  },
  {
   "cell_type": "markdown",
   "metadata": {},
   "source": [
    "Exercises for you:\n",
    "\n",
    "1. Update example 1 so that an invitation message is not displayed for \"Brad\"\n",
    "2. Update example 1 to include an exclusion list `ex_list = [\"Brad\", \"Zuki\"]`. Invitation messages should not be printed for any names listed in `ex_list`  \n",
    "3. Update Example 2 to include a running sum that is printed out after the loop finishes.\n",
    "4. Update Example 2 so that only odd numbers are displayed. (Hint: what does `(my_val % 2) == 1` evaluate to?)\n",
    "5. Update Example 2 so that it includes a running sum of the even numbers.\n",
    "6. Update Example 3 so that it includes a running sum that is printed out after the loop. \n",
    "7. Update Example 3 so that it only prints out the sum of each row.\n",
    "8. Concider the formulation for the Finonacci sequence:\n",
    "\n",
    "\n",
    "$$\n",
    " F_0 = 0, F_1 = 1,\\\\\n",
    " and\\\\\n",
    " F_n = F_{n-1} + F_{n-2}\\\\\n",
    "$$ \n",
    " \n",
    "\n",
    "Where $n > 1$ and $F_n$ is the value of the sequence at position *n*. This result in a sequence beginning with: 0, 1, 2, 3, 5, 8, 13, 21, 34, 55, 89, 144, ...\n",
    "\n",
    "Using the starter code presented above, construct a code segement that calculates the first 12 values in the fibonacci sequence. "
   ]
  },
  {
   "cell_type": "code",
   "execution_count": 15,
   "metadata": {},
   "outputs": [
    {
     "name": "stdout",
     "output_type": "stream",
     "text": [
      "0\n",
      "1\n",
      "2\n",
      "3\n",
      "5\n",
      "8\n",
      "13\n",
      "21\n",
      "34\n",
      "55\n",
      "89\n",
      "144\n",
      "233\n"
     ]
    }
   ],
   "source": [
    "# Question 8 starter code    \n",
    "f0 = 0\n",
    "f1 = 1\n",
    "\n",
    "# Comment this back in when you start working\n",
    "while f1 < 145:\n",
    "    # Do something here to calculate the next step.\n",
    "    # Don't forget to update f0 and f1\n",
    "    if f0 == 0:\n",
    "        print(f0)\n",
    "    f2 = f0\n",
    "    f0 = f1\n",
    "    f1 = f2 + f0  \n",
    "    # Comment this back in when you start working    \n",
    "    print(f1)\n",
    "    \n",
    "\n",
    "# Im certain there is a far smarter way to achieve this, but this is my solution for now."
   ]
  },
  {
   "cell_type": "markdown",
   "metadata": {},
   "source": [
    "## Exercise 5\n",
    "\n",
    "In this exercise you will work with list operations and practice creating slices of of lists for use within analysis tasks.\n",
    "\n",
    "Review the examples below:"
   ]
  },
  {
   "cell_type": "code",
   "execution_count": 26,
   "metadata": {},
   "outputs": [
    {
     "name": "stdout",
     "output_type": "stream",
     "text": [
      "apple\n",
      "banana\n",
      "['banana', 'cherry', 'orange']\n",
      "['cherry', 'orange', 'kiwi', 'melon', 'mango']\n",
      "['apple', 'cherry', 'kiwi', 'mango']\n",
      "orange\n",
      "mango\n",
      "['orange', 'kiwi', 'melon', 'mango']\n",
      "['apple', 'orange', 'mango']\n",
      "['apple', 'orange']\n"
     ]
    }
   ],
   "source": [
    "thislist = [\"apple\", \"banana\", \"cherry\", \"orange\", \"kiwi\", \"melon\", \"mango\"]\n",
    "\n",
    "#Access elements 0 and 1\n",
    "print(thislist[0])\n",
    "print(thislist[1])\n",
    "\n",
    "#Access elements at positions 1 to 3\n",
    "print(thislist[1:4])\n",
    "\n",
    "#Access elements at positions 3 to the end\n",
    "print(thislist[2:])\n",
    "\n",
    "#Access every second element (starting at 0)\n",
    "print(thislist[0::2])\n",
    "\n",
    "#question 1\n",
    "print(thislist[3])\n",
    "\n",
    "#question 2 \n",
    "print(thislist[-1])\n",
    "\n",
    "# question 3\n",
    "print(thislist[-4:])\n",
    "\n",
    "# question 4\n",
    "print(thislist[::3])\n",
    "\n",
    "# question 5\n",
    "print(thislist[:5:3])"
   ]
  },
  {
   "cell_type": "markdown",
   "metadata": {},
   "source": [
    "Exercises for you:\n",
    "1. Add a line of code that prints the item at position 4.\n",
    "2. Add a line of code that prints the last item in the list. (Hint: what happens if you use negative indexes?)\n",
    "3. Add a line of code that prints the last 4 items.\n",
    "4. Add a line of code that prints every 3rd item.\n",
    "5. Add a line of code that prints every 3rd item up to 5th item.\n"
   ]
  },
  {
   "cell_type": "markdown",
   "metadata": {
    "jp-MarkdownHeadingCollapsed": true
   },
   "source": [
    "# Exercise 6\n",
    "\n",
    "In this exercise you will practise working with slices from a 2-dimensional array.\n",
    "\n",
    "Review the examples below:"
   ]
  },
  {
   "cell_type": "code",
   "execution_count": 72,
   "metadata": {},
   "outputs": [
    {
     "name": "stdout",
     "output_type": "stream",
     "text": [
      "[[3]\n",
      " [6]\n",
      " [9]]\n"
     ]
    }
   ],
   "source": [
    "import numpy as np\n",
    "\n",
    "a2 = np.array([[1, 2, 3],\n",
    "              [4, 5, 6],\n",
    "              [7, 8, 9]])\n",
    "\n",
    "#Access individual items using 2d coorinates\n",
    "print(a2[0,0])\n",
    "print(a2[1,1])\n",
    "print(a2[2,2])\n",
    "\n",
    "#Create some 2d slices \n",
    "#Access the first column\n",
    "print(a2[:,0])\n",
    "#Access the first row\n",
    "print(a2[0,:])\n",
    "\n",
    "#Select the first two rows\n",
    "print(a2[0:2,:])\n",
    "\n",
    "##Select the last two columns\n",
    "print(a2[:,1:3])\n",
    "\n",
    "# question 1\n",
    "print(a2[1, 0])\n",
    "\n",
    "# question 2\n",
    "print(a2[:,-1:])\n",
    "\n",
    "# question 3\n",
    "print(a2[2])"
   ]
  },
  {
   "cell_type": "markdown",
   "metadata": {},
   "source": [
    "Exercises for you:\n",
    "\n",
    "1. Add a line of code that prints the item in position (2,1).\n",
    "2. Add a line of code that prints the last column of data.\n",
    "3. Add a line of code that prints last row of data\n"
   ]
  },
  {
   "cell_type": "markdown",
   "metadata": {},
   "source": [
    "# Exercise 7\n",
    "\n",
    "Lets now work with an actual dataset.\n",
    "\n",
    "The first thing we will do is import some data to work with. We will be working with the *wine* dataset. This dataset is the results of a chemical analysis of wines grown in the same region in Italy but derived from three different cultivars. The analysis determined the quantities of 13 constituents found in each of the three types of wines. \n",
    "\n",
    "The columns in the dataset correspond to:\n",
    "\n",
    "1. Alcohol\n",
    "2. Malic acid\n",
    "3. Ash\n",
    "4. Alcalinity of ash\n",
    "5. Magnesium\n",
    "6. Total phenols\n",
    "7. Flavanoids\n",
    "8. Nonflavanoid phenols\n",
    "9. Proanthocyanins\n",
    "10. Color intensity\n",
    "11. Hue\n",
    "12. OD280/OD315 of diluted wines\n",
    "13. Proline\n"
   ]
  },
  {
   "cell_type": "code",
   "execution_count": 15,
   "metadata": {},
   "outputs": [
    {
     "name": "stdout",
     "output_type": "stream",
     "text": [
      ".. _wine_dataset:\n",
      "\n",
      "Wine recognition dataset\n",
      "------------------------\n",
      "\n",
      "**Data Set Characteristics:**\n",
      "\n",
      "    :Number of Instances: 178 (50 in each of three classes)\n",
      "    :Number of Attributes: 13 numeric, predictive attributes and the class\n",
      "    :Attribute Information:\n",
      " \t\t- Alcohol\n",
      " \t\t- Malic acid\n",
      " \t\t- Ash\n",
      "\t\t- Alcalinity of ash  \n",
      " \t\t- Magnesium\n",
      "\t\t- Total phenols\n",
      " \t\t- Flavanoids\n",
      " \t\t- Nonflavanoid phenols\n",
      " \t\t- Proanthocyanins\n",
      "\t\t- Color intensity\n",
      " \t\t- Hue\n",
      " \t\t- OD280/OD315 of diluted wines\n",
      " \t\t- Proline\n",
      "\n",
      "    - class:\n",
      "            - class_0\n",
      "            - class_1\n",
      "            - class_2\n",
      "\t\t\n",
      "    :Summary Statistics:\n",
      "    \n",
      "    ============================= ==== ===== ======= =====\n",
      "                                   Min   Max   Mean     SD\n",
      "    ============================= ==== ===== ======= =====\n",
      "    Alcohol:                      11.0  14.8    13.0   0.8\n",
      "    Malic Acid:                   0.74  5.80    2.34  1.12\n",
      "    Ash:                          1.36  3.23    2.36  0.27\n",
      "    Alcalinity of Ash:            10.6  30.0    19.5   3.3\n",
      "    Magnesium:                    70.0 162.0    99.7  14.3\n",
      "    Total Phenols:                0.98  3.88    2.29  0.63\n",
      "    Flavanoids:                   0.34  5.08    2.03  1.00\n",
      "    Nonflavanoid Phenols:         0.13  0.66    0.36  0.12\n",
      "    Proanthocyanins:              0.41  3.58    1.59  0.57\n",
      "    Colour Intensity:              1.3  13.0     5.1   2.3\n",
      "    Hue:                          0.48  1.71    0.96  0.23\n",
      "    OD280/OD315 of diluted wines: 1.27  4.00    2.61  0.71\n",
      "    Proline:                       278  1680     746   315\n",
      "    ============================= ==== ===== ======= =====\n",
      "\n",
      "    :Missing Attribute Values: None\n",
      "    :Class Distribution: class_0 (59), class_1 (71), class_2 (48)\n",
      "    :Creator: R.A. Fisher\n",
      "    :Donor: Michael Marshall (MARSHALL%PLU@io.arc.nasa.gov)\n",
      "    :Date: July, 1988\n",
      "\n",
      "This is a copy of UCI ML Wine recognition datasets.\n",
      "https://archive.ics.uci.edu/ml/machine-learning-databases/wine/wine.data\n",
      "\n",
      "The data is the results of a chemical analysis of wines grown in the same\n",
      "region in Italy by three different cultivators. There are thirteen different\n",
      "measurements taken for different constituents found in the three types of\n",
      "wine.\n",
      "\n",
      "Original Owners: \n",
      "\n",
      "Forina, M. et al, PARVUS - \n",
      "An Extendible Package for Data Exploration, Classification and Correlation. \n",
      "Institute of Pharmaceutical and Food Analysis and Technologies,\n",
      "Via Brigata Salerno, 16147 Genoa, Italy.\n",
      "\n",
      "Citation:\n",
      "\n",
      "Lichman, M. (2013). UCI Machine Learning Repository\n",
      "[https://archive.ics.uci.edu/ml]. Irvine, CA: University of California,\n",
      "School of Information and Computer Science. \n",
      "\n",
      ".. topic:: References\n",
      "\n",
      "  (1) S. Aeberhard, D. Coomans and O. de Vel, \n",
      "  Comparison of Classifiers in High Dimensional Settings, \n",
      "  Tech. Rep. no. 92-02, (1992), Dept. of Computer Science and Dept. of  \n",
      "  Mathematics and Statistics, James Cook University of North Queensland. \n",
      "  (Also submitted to Technometrics). \n",
      "\n",
      "  The data was used with many others for comparing various \n",
      "  classifiers. The classes are separable, though only RDA \n",
      "  has achieved 100% correct classification. \n",
      "  (RDA : 100%, QDA 99.4%, LDA 98.9%, 1NN 96.1% (z-transformed data)) \n",
      "  (All results using the leave-one-out technique) \n",
      "\n",
      "  (2) S. Aeberhard, D. Coomans and O. de Vel, \n",
      "  \"THE CLASSIFICATION PERFORMANCE OF RDA\" \n",
      "  Tech. Rep. no. 92-01, (1992), Dept. of Computer Science and Dept. of \n",
      "  Mathematics and Statistics, James Cook University of North Queensland. \n",
      "  (Also submitted to Journal of Chemometrics).\n",
      "\n"
     ]
    },
    {
     "data": {
      "image/png": "[encoded data removed]",
      "text/plain": [
       "<Figure size 720x720 with 1 Axes>"
      ]
     },
     "metadata": {
      "needs_background": "light"
     },
     "output_type": "display_data"
    },
    {
     "data": {
      "image/png": "[encoded data removed]",
      "text/plain": [
       "<Figure size 720x720 with 4 Axes>"
      ]
     },
     "metadata": {
      "needs_background": "light"
     },
     "output_type": "display_data"
    }
   ],
   "source": [
    "#Import the data\n",
    "from sklearn.datasets import load_wine\n",
    "import matplotlib.pyplot as plt\n",
    "\n",
    "#Load the data to a reference so we can access it.\n",
    "wine_data = load_wine()\n",
    "\n",
    "#Lets print the description stored with the data - most datasets have this in Scikit-learn\n",
    "print(wine_data.DESCR)\n",
    "\n",
    "#Now lets do a plot\n",
    "# Create a figure containing a single axes.\n",
    "fig, ax = plt.subplots(figsize=(10,10))\n",
    "\n",
    "#Lets generate a scatter plot of the 'Alcohol' and 'Malic acid'\n",
    "#wine_data.target is used to specify the category for each datapoint\n",
    "\n",
    "ax.scatter(wine_data.data[:,0], wine_data.data[:,1], c=wine_data.target, cmap='rainbow')\n",
    "\n",
    "# Create a figure containing a a 2x2 grid of axes.\n",
    "fig, ax = plt.subplots(2,2,figsize=(10,10))\n",
    "\n",
    "# Populate the grid of axes with a set of plots using the data columns from wine_data.data\n",
    "for row in range(0,2):\n",
    "    for col in range(0,2):\n",
    "        # We don't want to plot a data column against itself\n",
    "        if row == col:\n",
    "            continue\n",
    "        ax[row,col].scatter(wine_data.data[:,row], wine_data.data[:,col], c=wine_data.target, cmap='rainbow')\n",
    "\n",
    "\n"
   ]
  },
  {
   "cell_type": "markdown",
   "metadata": {},
   "source": [
    "Exercises for you:\n",
    "\n",
    "1. First let's explore the data. Update the example to plot different data columns. (e.g. create a scatter plot of the 'Color intensity' and 'Proline')\n",
    "2. Update the example so only the first 20 data points are plotted.\n",
    "3. Update the example so only the last 20 data points are plotted.\n",
    "4. Update the example so it generates a a 13x13 grid of axes that plot all data columns against each other.\n"
   ]
  },
  {
   "cell_type": "code",
   "execution_count": null,
   "metadata": {},
   "outputs": [],
   "source": []
  }
 ],
 "metadata": {
  "kernelspec": {
   "display_name": "Python 3 (ipykernel)",
   "language": "python",
   "name": "python3"
  },
  "language_info": {
   "codemirror_mode": {
    "name": "ipython",
    "version": 3
   },
   "file_extension": ".py",
   "mimetype": "text/x-python",
   "name": "python",
   "nbconvert_exporter": "python",
   "pygments_lexer": "ipython3",
   "version": "3.11.7"
  }
 },
 "nbformat": 4,
 "nbformat_minor": 4
}
